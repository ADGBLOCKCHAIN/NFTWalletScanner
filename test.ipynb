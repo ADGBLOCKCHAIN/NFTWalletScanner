{
 "cells": [
  {
   "cell_type": "code",
   "execution_count": 73,
   "metadata": {},
   "outputs": [
    {
     "data": {
      "text/plain": [
       "{'video': 'https://openseauserdata.com/files/9881126cc37e3542b5e5511e0fb962ff.mp4#t=0.001'}"
      ]
     },
     "execution_count": 73,
     "metadata": {},
     "output_type": "execute_result"
    }
   ],
   "source": [
    " \n",
    "from bs4 import BeautifulSoup\n",
    "import pandas\n",
    "import json\n",
    "import cloudscraper\n",
    "import re\n",
    "\n",
    "def returnNFTLink(contractAddress,tokenID):\n",
    "    try:\n",
    "        url = \"https://opensea.io/assets/{0}/{1}\".format(contractAddress,tokenID)\n",
    "        scraper = cloudscraper.create_scraper(\n",
    "        browser={'browser': 'firefox', 'platform': 'windows', 'mobile': False})\n",
    "        html = scraper.get(url).content\n",
    "        soup = BeautifulSoup(html, 'lxml')\n",
    "        if len(soup.findAll('source')) > 0:\n",
    "            return {'video':re.findall('\"([^\"]*)\"', str(soup.findAll('source')[0]))[1]}\n",
    "        for x in soup.findAll('meta'):\n",
    "                if 'https://lh3.googleusercontent.com' in str(x):\n",
    "                    return {'image':re.findall('\"([^\"]*)\"', str(x))[0]}\n",
    "    except Exception as e:\n",
    "        print(e)\n",
    "        return 'failed'\n",
    "        \n",
    "returnNFTLink('0x7a44228e46cdd37a85c0b07c4043b86c11e8c315', '338464055476515821668524850591486266970')"
   ]
  }
 ],
 "metadata": {
  "interpreter": {
   "hash": "259b28f028dee1a43987aa2c0f0ef6ada5721125193b686f5c26d4b915bdc4ed"
  },
  "kernelspec": {
   "display_name": "Python 3.7.6 64-bit",
   "language": "python",
   "name": "python3"
  },
  "language_info": {
   "name": "python",
   "version": "3.7.6"
  },
  "orig_nbformat": 4
 },
 "nbformat": 4,
 "nbformat_minor": 2
}
